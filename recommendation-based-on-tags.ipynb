{
 "cells": [
  {
   "cell_type": "code",
   "execution_count": 1,
   "id": "a04400a0",
   "metadata": {
    "_cell_guid": "b1076dfc-b9ad-4769-8c92-a6c4dae69d19",
    "_uuid": "8f2839f25d086af736a60e9eeb907d3b93b6e0e5",
    "execution": {
     "iopub.execute_input": "2022-12-07T06:16:59.798970Z",
     "iopub.status.busy": "2022-12-07T06:16:59.797998Z",
     "iopub.status.idle": "2022-12-07T06:16:59.814694Z",
     "shell.execute_reply": "2022-12-07T06:16:59.813037Z"
    },
    "papermill": {
     "duration": 0.032385,
     "end_time": "2022-12-07T06:16:59.817755",
     "exception": false,
     "start_time": "2022-12-07T06:16:59.785370",
     "status": "completed"
    },
    "tags": []
   },
   "outputs": [
    {
     "name": "stdout",
     "output_type": "stream",
     "text": [
      "/kaggle/input/data-science-for-good-careervillage/professionals.csv\n",
      "/kaggle/input/data-science-for-good-careervillage/matches.csv\n",
      "/kaggle/input/data-science-for-good-careervillage/comments.csv\n",
      "/kaggle/input/data-science-for-good-careervillage/tag_users.csv\n",
      "/kaggle/input/data-science-for-good-careervillage/groups.csv\n",
      "/kaggle/input/data-science-for-good-careervillage/school_memberships.csv\n",
      "/kaggle/input/data-science-for-good-careervillage/group_memberships.csv\n",
      "/kaggle/input/data-science-for-good-careervillage/answers.csv\n",
      "/kaggle/input/data-science-for-good-careervillage/emails.csv\n",
      "/kaggle/input/data-science-for-good-careervillage/questions.csv\n",
      "/kaggle/input/data-science-for-good-careervillage/tags.csv\n",
      "/kaggle/input/data-science-for-good-careervillage/tag_questions.csv\n",
      "/kaggle/input/data-science-for-good-careervillage/answer_scores.csv\n",
      "/kaggle/input/data-science-for-good-careervillage/question_scores.csv\n",
      "/kaggle/input/data-science-for-good-careervillage/students.csv\n"
     ]
    }
   ],
   "source": [
    "import numpy as np # linear algebra\n",
    "import pandas as pd # data processing, CSV file I/O (e.g. pd.read_csv)\n",
    "\n",
    "import os\n",
    "for dirname, _, filenames in os.walk('/kaggle/input'):\n",
    "    for filename in filenames:\n",
    "        print(os.path.join(dirname, filename))\n"
   ]
  },
  {
   "cell_type": "markdown",
   "id": "c4b34355",
   "metadata": {
    "papermill": {
     "duration": 0.008398,
     "end_time": "2022-12-07T06:16:59.834801",
     "exception": false,
     "start_time": "2022-12-07T06:16:59.826403",
     "status": "completed"
    },
    "tags": []
   },
   "source": [
    "# Question Recommender: Recommend question based on tag"
   ]
  },
  {
   "cell_type": "markdown",
   "id": "fd86bfd9",
   "metadata": {
    "papermill": {
     "duration": 0.0076,
     "end_time": "2022-12-07T06:16:59.851179",
     "exception": false,
     "start_time": "2022-12-07T06:16:59.843579",
     "status": "completed"
    },
    "tags": []
   },
   "source": [
    "File path of the dataset"
   ]
  },
  {
   "cell_type": "code",
   "execution_count": 2,
   "id": "8bdab120",
   "metadata": {
    "execution": {
     "iopub.execute_input": "2022-12-07T06:16:59.868973Z",
     "iopub.status.busy": "2022-12-07T06:16:59.868571Z",
     "iopub.status.idle": "2022-12-07T06:16:59.876734Z",
     "shell.execute_reply": "2022-12-07T06:16:59.875400Z"
    },
    "papermill": {
     "duration": 0.020198,
     "end_time": "2022-12-07T06:16:59.879221",
     "exception": false,
     "start_time": "2022-12-07T06:16:59.859023",
     "status": "completed"
    },
    "tags": []
   },
   "outputs": [],
   "source": [
    "data_dir = \"/kaggle/input/data-science-for-good-careervillage/\"\n",
    "questions_file_path = os.path.join(data_dir, 'questions.csv')\n",
    "tags_file_path = os.path.join(data_dir, 'tags.csv')\n",
    "professionals_file_path = os.path.join(data_dir, 'professionals.csv')\n",
    "tag_questions_file_path = os.path.join(data_dir, 'tag_questions.csv')\n",
    "tag_users_file_path = os.path.join(data_dir, 'tag_users.csv')"
   ]
  },
  {
   "cell_type": "markdown",
   "id": "a9205c13",
   "metadata": {
    "papermill": {
     "duration": 0.007463,
     "end_time": "2022-12-07T06:16:59.894678",
     "exception": false,
     "start_time": "2022-12-07T06:16:59.887215",
     "status": "completed"
    },
    "tags": []
   },
   "source": [
    "### Extraction of each user tags\n",
    "\n",
    "#### Load dataset and inspection the dataset"
   ]
  },
  {
   "cell_type": "code",
   "execution_count": 3,
   "id": "c7c1df6b",
   "metadata": {
    "execution": {
     "iopub.execute_input": "2022-12-07T06:16:59.914203Z",
     "iopub.status.busy": "2022-12-07T06:16:59.913487Z",
     "iopub.status.idle": "2022-12-07T06:16:59.991351Z",
     "shell.execute_reply": "2022-12-07T06:16:59.989993Z"
    },
    "papermill": {
     "duration": 0.089805,
     "end_time": "2022-12-07T06:16:59.993875",
     "exception": false,
     "start_time": "2022-12-07T06:16:59.904070",
     "status": "completed"
    },
    "tags": []
   },
   "outputs": [
    {
     "name": "stdout",
     "output_type": "stream",
     "text": [
      "<class 'pandas.core.frame.DataFrame'>\n",
      "RangeIndex: 16269 entries, 0 to 16268\n",
      "Data columns (total 2 columns):\n",
      " #   Column         Non-Null Count  Dtype \n",
      "---  ------         --------------  ----- \n",
      " 0   tags_tag_id    16269 non-null  int64 \n",
      " 1   tags_tag_name  16268 non-null  object\n",
      "dtypes: int64(1), object(1)\n",
      "memory usage: 254.3+ KB\n",
      "None\n"
     ]
    },
    {
     "data": {
      "text/html": [
       "<div>\n",
       "<style scoped>\n",
       "    .dataframe tbody tr th:only-of-type {\n",
       "        vertical-align: middle;\n",
       "    }\n",
       "\n",
       "    .dataframe tbody tr th {\n",
       "        vertical-align: top;\n",
       "    }\n",
       "\n",
       "    .dataframe thead th {\n",
       "        text-align: right;\n",
       "    }\n",
       "</style>\n",
       "<table border=\"1\" class=\"dataframe\">\n",
       "  <thead>\n",
       "    <tr style=\"text-align: right;\">\n",
       "      <th></th>\n",
       "      <th>tags_tag_id</th>\n",
       "      <th>tags_tag_name</th>\n",
       "    </tr>\n",
       "  </thead>\n",
       "  <tbody>\n",
       "    <tr>\n",
       "      <th>0</th>\n",
       "      <td>27490</td>\n",
       "      <td>college</td>\n",
       "    </tr>\n",
       "    <tr>\n",
       "      <th>1</th>\n",
       "      <td>461</td>\n",
       "      <td>computer-science</td>\n",
       "    </tr>\n",
       "  </tbody>\n",
       "</table>\n",
       "</div>"
      ],
      "text/plain": [
       "   tags_tag_id     tags_tag_name\n",
       "0        27490           college\n",
       "1          461  computer-science"
      ]
     },
     "execution_count": 3,
     "metadata": {},
     "output_type": "execute_result"
    }
   ],
   "source": [
    "# Load dataset and show the dataset information\n",
    "tags_df = pd.read_csv(tags_file_path)\n",
    "print(tags_df.info())\n",
    "tags_df.head(2)"
   ]
  },
  {
   "cell_type": "code",
   "execution_count": 4,
   "id": "70cd741a",
   "metadata": {
    "execution": {
     "iopub.execute_input": "2022-12-07T06:17:00.015310Z",
     "iopub.status.busy": "2022-12-07T06:17:00.013991Z",
     "iopub.status.idle": "2022-12-07T06:17:00.205346Z",
     "shell.execute_reply": "2022-12-07T06:17:00.203814Z"
    },
    "papermill": {
     "duration": 0.205252,
     "end_time": "2022-12-07T06:17:00.208073",
     "exception": false,
     "start_time": "2022-12-07T06:17:00.002821",
     "status": "completed"
    },
    "tags": []
   },
   "outputs": [
    {
     "name": "stdout",
     "output_type": "stream",
     "text": [
      "<class 'pandas.core.frame.DataFrame'>\n",
      "RangeIndex: 136663 entries, 0 to 136662\n",
      "Data columns (total 2 columns):\n",
      " #   Column             Non-Null Count   Dtype \n",
      "---  ------             --------------   ----- \n",
      " 0   tag_users_tag_id   136663 non-null  int64 \n",
      " 1   tag_users_user_id  136663 non-null  object\n",
      "dtypes: int64(1), object(1)\n",
      "memory usage: 2.1+ MB\n",
      "None\n"
     ]
    },
    {
     "data": {
      "text/html": [
       "<div>\n",
       "<style scoped>\n",
       "    .dataframe tbody tr th:only-of-type {\n",
       "        vertical-align: middle;\n",
       "    }\n",
       "\n",
       "    .dataframe tbody tr th {\n",
       "        vertical-align: top;\n",
       "    }\n",
       "\n",
       "    .dataframe thead th {\n",
       "        text-align: right;\n",
       "    }\n",
       "</style>\n",
       "<table border=\"1\" class=\"dataframe\">\n",
       "  <thead>\n",
       "    <tr style=\"text-align: right;\">\n",
       "      <th></th>\n",
       "      <th>tag_users_tag_id</th>\n",
       "      <th>tag_users_user_id</th>\n",
       "    </tr>\n",
       "  </thead>\n",
       "  <tbody>\n",
       "    <tr>\n",
       "      <th>0</th>\n",
       "      <td>593</td>\n",
       "      <td>c72ab38e073246e88da7e9a4ec7a4472</td>\n",
       "    </tr>\n",
       "    <tr>\n",
       "      <th>1</th>\n",
       "      <td>1642</td>\n",
       "      <td>8db519781ec24f2e8bdc67c2ac53f614</td>\n",
       "    </tr>\n",
       "  </tbody>\n",
       "</table>\n",
       "</div>"
      ],
      "text/plain": [
       "   tag_users_tag_id                 tag_users_user_id\n",
       "0               593  c72ab38e073246e88da7e9a4ec7a4472\n",
       "1              1642  8db519781ec24f2e8bdc67c2ac53f614"
      ]
     },
     "execution_count": 4,
     "metadata": {},
     "output_type": "execute_result"
    }
   ],
   "source": [
    "# Load dataset and show the dataset information\n",
    "tag_users_df = pd.read_csv(tag_users_file_path)\n",
    "print(tag_users_df.info())\n",
    "tag_users_df.head(2)"
   ]
  },
  {
   "cell_type": "markdown",
   "id": "ce008919",
   "metadata": {
    "papermill": {
     "duration": 0.008518,
     "end_time": "2022-12-07T06:17:00.225538",
     "exception": false,
     "start_time": "2022-12-07T06:17:00.217020",
     "status": "completed"
    },
    "tags": []
   },
   "source": [
    "#### Merge and Extraction\n",
    "\n",
    "Since `tag_users_df` and `tags_df` has common data `tag_id`, we can merge them and extract each user tag by grouping by `user_id`"
   ]
  },
  {
   "cell_type": "code",
   "execution_count": 5,
   "id": "5479254d",
   "metadata": {
    "execution": {
     "iopub.execute_input": "2022-12-07T06:17:00.245730Z",
     "iopub.status.busy": "2022-12-07T06:17:00.245317Z",
     "iopub.status.idle": "2022-12-07T06:17:00.320289Z",
     "shell.execute_reply": "2022-12-07T06:17:00.318998Z"
    },
    "papermill": {
     "duration": 0.087762,
     "end_time": "2022-12-07T06:17:00.322733",
     "exception": false,
     "start_time": "2022-12-07T06:17:00.234971",
     "status": "completed"
    },
    "tags": []
   },
   "outputs": [
    {
     "data": {
      "text/html": [
       "<div>\n",
       "<style scoped>\n",
       "    .dataframe tbody tr th:only-of-type {\n",
       "        vertical-align: middle;\n",
       "    }\n",
       "\n",
       "    .dataframe tbody tr th {\n",
       "        vertical-align: top;\n",
       "    }\n",
       "\n",
       "    .dataframe thead th {\n",
       "        text-align: right;\n",
       "    }\n",
       "</style>\n",
       "<table border=\"1\" class=\"dataframe\">\n",
       "  <thead>\n",
       "    <tr style=\"text-align: right;\">\n",
       "      <th></th>\n",
       "      <th>user_id</th>\n",
       "      <th>tag</th>\n",
       "    </tr>\n",
       "  </thead>\n",
       "  <tbody>\n",
       "    <tr>\n",
       "      <th>0</th>\n",
       "      <td>c72ab38e073246e88da7e9a4ec7a4472</td>\n",
       "      <td>computer-software</td>\n",
       "    </tr>\n",
       "    <tr>\n",
       "      <th>1</th>\n",
       "      <td>8db519781ec24f2e8bdc67c2ac53f614</td>\n",
       "      <td>computer-software</td>\n",
       "    </tr>\n",
       "    <tr>\n",
       "      <th>2</th>\n",
       "      <td>9ab6b54d55b24299a4795584508db4ff</td>\n",
       "      <td>computer-software</td>\n",
       "    </tr>\n",
       "    <tr>\n",
       "      <th>3</th>\n",
       "      <td>e327399c48584fcf81e433828a6d8715</td>\n",
       "      <td>computer-software</td>\n",
       "    </tr>\n",
       "    <tr>\n",
       "      <th>4</th>\n",
       "      <td>92494d9dc2124507972c5306badc6727</td>\n",
       "      <td>computer-software</td>\n",
       "    </tr>\n",
       "  </tbody>\n",
       "</table>\n",
       "</div>"
      ],
      "text/plain": [
       "                            user_id                tag\n",
       "0  c72ab38e073246e88da7e9a4ec7a4472  computer-software\n",
       "1  8db519781ec24f2e8bdc67c2ac53f614  computer-software\n",
       "2  9ab6b54d55b24299a4795584508db4ff  computer-software\n",
       "3  e327399c48584fcf81e433828a6d8715  computer-software\n",
       "4  92494d9dc2124507972c5306badc6727  computer-software"
      ]
     },
     "execution_count": 5,
     "metadata": {},
     "output_type": "execute_result"
    }
   ],
   "source": [
    "# Merge dataframe\n",
    "temp_df = pd.merge(tag_users_df, tags_df, \n",
    "                left_on='tag_users_tag_id', \n",
    "                right_on='tags_tag_id', \n",
    "                how='inner'\n",
    "               )\n",
    "# Remove unnecesary columns\n",
    "temp_df.drop(columns=['tag_users_tag_id','tags_tag_id' ], inplace=True)\n",
    "\n",
    "# reaname columns name\n",
    "temp_df.rename(columns={'tag_users_user_id':'user_id', 'tags_tag_name':'tag'},inplace=True)\n",
    "temp_df.head()"
   ]
  },
  {
   "cell_type": "code",
   "execution_count": 6,
   "id": "13fc8226",
   "metadata": {
    "execution": {
     "iopub.execute_input": "2022-12-07T06:17:00.343196Z",
     "iopub.status.busy": "2022-12-07T06:17:00.342522Z",
     "iopub.status.idle": "2022-12-07T06:17:01.043382Z",
     "shell.execute_reply": "2022-12-07T06:17:01.041917Z"
    },
    "papermill": {
     "duration": 0.714788,
     "end_time": "2022-12-07T06:17:01.046810",
     "exception": false,
     "start_time": "2022-12-07T06:17:00.332022",
     "status": "completed"
    },
    "tags": []
   },
   "outputs": [
    {
     "data": {
      "text/html": [
       "<div>\n",
       "<style scoped>\n",
       "    .dataframe tbody tr th:only-of-type {\n",
       "        vertical-align: middle;\n",
       "    }\n",
       "\n",
       "    .dataframe tbody tr th {\n",
       "        vertical-align: top;\n",
       "    }\n",
       "\n",
       "    .dataframe thead th {\n",
       "        text-align: right;\n",
       "    }\n",
       "</style>\n",
       "<table border=\"1\" class=\"dataframe\">\n",
       "  <thead>\n",
       "    <tr style=\"text-align: right;\">\n",
       "      <th></th>\n",
       "      <th>user_id</th>\n",
       "      <th>tag</th>\n",
       "    </tr>\n",
       "  </thead>\n",
       "  <tbody>\n",
       "    <tr>\n",
       "      <th>0</th>\n",
       "      <td>00009a0f9bda43eba47104e9ac62aff5</td>\n",
       "      <td>{content-creation, script-writing, digital-media}</td>\n",
       "    </tr>\n",
       "    <tr>\n",
       "      <th>1</th>\n",
       "      <td>000196ef8db54b9a86ae70ad31745d04</td>\n",
       "      <td>{accounting}</td>\n",
       "    </tr>\n",
       "  </tbody>\n",
       "</table>\n",
       "</div>"
      ],
      "text/plain": [
       "                            user_id  \\\n",
       "0  00009a0f9bda43eba47104e9ac62aff5   \n",
       "1  000196ef8db54b9a86ae70ad31745d04   \n",
       "\n",
       "                                                 tag  \n",
       "0  {content-creation, script-writing, digital-media}  \n",
       "1                                       {accounting}  "
      ]
     },
     "execution_count": 6,
     "metadata": {},
     "output_type": "execute_result"
    }
   ],
   "source": [
    "# Extration of user tag by grouping\n",
    "user_tag_df = temp_df.groupby(['user_id'])['tag'].apply(set).reset_index()\n",
    "user_tag_df.head(2)"
   ]
  },
  {
   "cell_type": "markdown",
   "id": "396af214",
   "metadata": {
    "papermill": {
     "duration": 0.00904,
     "end_time": "2022-12-07T06:17:01.066167",
     "exception": false,
     "start_time": "2022-12-07T06:17:01.057127",
     "status": "completed"
    },
    "tags": []
   },
   "source": [
    "### Extraction of each question tags\n",
    "\n",
    "#### Load and inspect the dataset"
   ]
  },
  {
   "cell_type": "code",
   "execution_count": 7,
   "id": "0d188d95",
   "metadata": {
    "execution": {
     "iopub.execute_input": "2022-12-07T06:17:01.085892Z",
     "iopub.status.busy": "2022-12-07T06:17:01.085502Z",
     "iopub.status.idle": "2022-12-07T06:17:01.201588Z",
     "shell.execute_reply": "2022-12-07T06:17:01.199305Z"
    },
    "papermill": {
     "duration": 0.129177,
     "end_time": "2022-12-07T06:17:01.204257",
     "exception": false,
     "start_time": "2022-12-07T06:17:01.075080",
     "status": "completed"
    },
    "tags": []
   },
   "outputs": [
    {
     "name": "stdout",
     "output_type": "stream",
     "text": [
      "<class 'pandas.core.frame.DataFrame'>\n",
      "RangeIndex: 76553 entries, 0 to 76552\n",
      "Data columns (total 2 columns):\n",
      " #   Column                     Non-Null Count  Dtype \n",
      "---  ------                     --------------  ----- \n",
      " 0   tag_questions_tag_id       76553 non-null  int64 \n",
      " 1   tag_questions_question_id  76553 non-null  object\n",
      "dtypes: int64(1), object(1)\n",
      "memory usage: 1.2+ MB\n",
      "None\n"
     ]
    },
    {
     "data": {
      "text/html": [
       "<div>\n",
       "<style scoped>\n",
       "    .dataframe tbody tr th:only-of-type {\n",
       "        vertical-align: middle;\n",
       "    }\n",
       "\n",
       "    .dataframe tbody tr th {\n",
       "        vertical-align: top;\n",
       "    }\n",
       "\n",
       "    .dataframe thead th {\n",
       "        text-align: right;\n",
       "    }\n",
       "</style>\n",
       "<table border=\"1\" class=\"dataframe\">\n",
       "  <thead>\n",
       "    <tr style=\"text-align: right;\">\n",
       "      <th></th>\n",
       "      <th>tag_questions_tag_id</th>\n",
       "      <th>tag_questions_question_id</th>\n",
       "    </tr>\n",
       "  </thead>\n",
       "  <tbody>\n",
       "    <tr>\n",
       "      <th>0</th>\n",
       "      <td>28930</td>\n",
       "      <td>cb43ebee01364c68ac61d347a393ae39</td>\n",
       "    </tr>\n",
       "    <tr>\n",
       "      <th>1</th>\n",
       "      <td>28930</td>\n",
       "      <td>47f55e85ce944242a5a347ab85a8ffb4</td>\n",
       "    </tr>\n",
       "  </tbody>\n",
       "</table>\n",
       "</div>"
      ],
      "text/plain": [
       "   tag_questions_tag_id         tag_questions_question_id\n",
       "0                 28930  cb43ebee01364c68ac61d347a393ae39\n",
       "1                 28930  47f55e85ce944242a5a347ab85a8ffb4"
      ]
     },
     "execution_count": 7,
     "metadata": {},
     "output_type": "execute_result"
    }
   ],
   "source": [
    "# Read the dataset\n",
    "tag_questions_df = pd.read_csv(tag_questions_file_path)\n",
    "\n",
    "# Dataset information\n",
    "print(tag_questions_df.info())\n",
    "tag_questions_df.head(2)"
   ]
  },
  {
   "cell_type": "code",
   "execution_count": 8,
   "id": "258566f0",
   "metadata": {
    "execution": {
     "iopub.execute_input": "2022-12-07T06:17:01.225566Z",
     "iopub.status.busy": "2022-12-07T06:17:01.224033Z",
     "iopub.status.idle": "2022-12-07T06:17:01.591973Z",
     "shell.execute_reply": "2022-12-07T06:17:01.590195Z"
    },
    "papermill": {
     "duration": 0.381431,
     "end_time": "2022-12-07T06:17:01.594760",
     "exception": false,
     "start_time": "2022-12-07T06:17:01.213329",
     "status": "completed"
    },
    "tags": []
   },
   "outputs": [
    {
     "name": "stdout",
     "output_type": "stream",
     "text": [
      "<class 'pandas.core.frame.DataFrame'>\n",
      "RangeIndex: 23931 entries, 0 to 23930\n",
      "Data columns (total 5 columns):\n",
      " #   Column                Non-Null Count  Dtype \n",
      "---  ------                --------------  ----- \n",
      " 0   questions_id          23931 non-null  object\n",
      " 1   questions_author_id   23931 non-null  object\n",
      " 2   questions_date_added  23931 non-null  object\n",
      " 3   questions_title       23931 non-null  object\n",
      " 4   questions_body        23931 non-null  object\n",
      "dtypes: object(5)\n",
      "memory usage: 934.9+ KB\n",
      "None\n"
     ]
    },
    {
     "data": {
      "text/html": [
       "<div>\n",
       "<style scoped>\n",
       "    .dataframe tbody tr th:only-of-type {\n",
       "        vertical-align: middle;\n",
       "    }\n",
       "\n",
       "    .dataframe tbody tr th {\n",
       "        vertical-align: top;\n",
       "    }\n",
       "\n",
       "    .dataframe thead th {\n",
       "        text-align: right;\n",
       "    }\n",
       "</style>\n",
       "<table border=\"1\" class=\"dataframe\">\n",
       "  <thead>\n",
       "    <tr style=\"text-align: right;\">\n",
       "      <th></th>\n",
       "      <th>questions_id</th>\n",
       "      <th>questions_author_id</th>\n",
       "      <th>questions_date_added</th>\n",
       "      <th>questions_title</th>\n",
       "      <th>questions_body</th>\n",
       "    </tr>\n",
       "  </thead>\n",
       "  <tbody>\n",
       "    <tr>\n",
       "      <th>0</th>\n",
       "      <td>332a511f1569444485cf7a7a556a5e54</td>\n",
       "      <td>8f6f374ffd834d258ab69d376dd998f5</td>\n",
       "      <td>2016-04-26 11:14:26 UTC+0000</td>\n",
       "      <td>Teacher   career   question</td>\n",
       "      <td>What  is  a  maths  teacher?   what  is  a  ma...</td>\n",
       "    </tr>\n",
       "    <tr>\n",
       "      <th>1</th>\n",
       "      <td>eb80205482e4424cad8f16bc25aa2d9c</td>\n",
       "      <td>acccbda28edd4362ab03fb8b6fd2d67b</td>\n",
       "      <td>2016-05-20 16:48:25 UTC+0000</td>\n",
       "      <td>I want to become an army officer. What can I d...</td>\n",
       "      <td>I am Priyanka from Bangalore . Now am in 10th ...</td>\n",
       "    </tr>\n",
       "  </tbody>\n",
       "</table>\n",
       "</div>"
      ],
      "text/plain": [
       "                       questions_id               questions_author_id  \\\n",
       "0  332a511f1569444485cf7a7a556a5e54  8f6f374ffd834d258ab69d376dd998f5   \n",
       "1  eb80205482e4424cad8f16bc25aa2d9c  acccbda28edd4362ab03fb8b6fd2d67b   \n",
       "\n",
       "           questions_date_added  \\\n",
       "0  2016-04-26 11:14:26 UTC+0000   \n",
       "1  2016-05-20 16:48:25 UTC+0000   \n",
       "\n",
       "                                     questions_title  \\\n",
       "0                        Teacher   career   question   \n",
       "1  I want to become an army officer. What can I d...   \n",
       "\n",
       "                                      questions_body  \n",
       "0  What  is  a  maths  teacher?   what  is  a  ma...  \n",
       "1  I am Priyanka from Bangalore . Now am in 10th ...  "
      ]
     },
     "execution_count": 8,
     "metadata": {},
     "output_type": "execute_result"
    }
   ],
   "source": [
    "# Read the dataset\n",
    "questions_df = pd.read_csv(questions_file_path)\n",
    "\n",
    "# Dataset information\n",
    "print(questions_df.info())\n",
    "questions_df.head(2)"
   ]
  },
  {
   "cell_type": "markdown",
   "id": "2fa2db7d",
   "metadata": {
    "papermill": {
     "duration": 0.008968,
     "end_time": "2022-12-07T06:17:01.614561",
     "exception": false,
     "start_time": "2022-12-07T06:17:01.605593",
     "status": "completed"
    },
    "tags": []
   },
   "source": [
    "#### Merge and Extraction\n",
    "\n",
    "`question_id` of the`questions_df` and `tag_questions_question_id` of the `tag_questions_df` both has same info. So we can merge them and extract id of the tag from the merged dataframe."
   ]
  },
  {
   "cell_type": "code",
   "execution_count": 9,
   "id": "5dd0e9cd",
   "metadata": {
    "execution": {
     "iopub.execute_input": "2022-12-07T06:17:01.636841Z",
     "iopub.status.busy": "2022-12-07T06:17:01.636417Z",
     "iopub.status.idle": "2022-12-07T06:17:01.745042Z",
     "shell.execute_reply": "2022-12-07T06:17:01.743250Z"
    },
    "papermill": {
     "duration": 0.124507,
     "end_time": "2022-12-07T06:17:01.748324",
     "exception": false,
     "start_time": "2022-12-07T06:17:01.623817",
     "status": "completed"
    },
    "tags": []
   },
   "outputs": [
    {
     "data": {
      "text/html": [
       "<div>\n",
       "<style scoped>\n",
       "    .dataframe tbody tr th:only-of-type {\n",
       "        vertical-align: middle;\n",
       "    }\n",
       "\n",
       "    .dataframe tbody tr th {\n",
       "        vertical-align: top;\n",
       "    }\n",
       "\n",
       "    .dataframe thead th {\n",
       "        text-align: right;\n",
       "    }\n",
       "</style>\n",
       "<table border=\"1\" class=\"dataframe\">\n",
       "  <thead>\n",
       "    <tr style=\"text-align: right;\">\n",
       "      <th></th>\n",
       "      <th>questions_id</th>\n",
       "      <th>questions_author_id</th>\n",
       "      <th>questions_title</th>\n",
       "      <th>questions_body</th>\n",
       "      <th>tag_questions_tag_id</th>\n",
       "    </tr>\n",
       "  </thead>\n",
       "  <tbody>\n",
       "    <tr>\n",
       "      <th>0</th>\n",
       "      <td>332a511f1569444485cf7a7a556a5e54</td>\n",
       "      <td>8f6f374ffd834d258ab69d376dd998f5</td>\n",
       "      <td>Teacher   career   question</td>\n",
       "      <td>What  is  a  maths  teacher?   what  is  a  ma...</td>\n",
       "      <td>14147</td>\n",
       "    </tr>\n",
       "    <tr>\n",
       "      <th>1</th>\n",
       "      <td>332a511f1569444485cf7a7a556a5e54</td>\n",
       "      <td>8f6f374ffd834d258ab69d376dd998f5</td>\n",
       "      <td>Teacher   career   question</td>\n",
       "      <td>What  is  a  maths  teacher?   what  is  a  ma...</td>\n",
       "      <td>27490</td>\n",
       "    </tr>\n",
       "  </tbody>\n",
       "</table>\n",
       "</div>"
      ],
      "text/plain": [
       "                       questions_id               questions_author_id  \\\n",
       "0  332a511f1569444485cf7a7a556a5e54  8f6f374ffd834d258ab69d376dd998f5   \n",
       "1  332a511f1569444485cf7a7a556a5e54  8f6f374ffd834d258ab69d376dd998f5   \n",
       "\n",
       "               questions_title  \\\n",
       "0  Teacher   career   question   \n",
       "1  Teacher   career   question   \n",
       "\n",
       "                                      questions_body  tag_questions_tag_id  \n",
       "0  What  is  a  maths  teacher?   what  is  a  ma...                 14147  \n",
       "1  What  is  a  maths  teacher?   what  is  a  ma...                 27490  "
      ]
     },
     "execution_count": 9,
     "metadata": {},
     "output_type": "execute_result"
    }
   ],
   "source": [
    "# Merge dataframe\n",
    "temp_df = pd.merge(questions_df, tag_questions_df, \n",
    "                   left_on='questions_id', \n",
    "                   right_on = 'tag_questions_question_id',\n",
    "                   how='inner'\n",
    "                  ).drop(columns=['tag_questions_question_id','questions_date_added'])\n",
    "temp_df.head(2)"
   ]
  },
  {
   "cell_type": "markdown",
   "id": "0d35fb14",
   "metadata": {
    "papermill": {
     "duration": 0.011438,
     "end_time": "2022-12-07T06:17:01.770511",
     "exception": false,
     "start_time": "2022-12-07T06:17:01.759073",
     "status": "completed"
    },
    "tags": []
   },
   "source": [
    "Now we can merge `temp_df` and `tags_df` since `tag_questions_tag_id` column and `tags_tag_id` column has same information. And then we can extract tags of each question by groping by `questions_id`."
   ]
  },
  {
   "cell_type": "code",
   "execution_count": 10,
   "id": "c75c23e9",
   "metadata": {
    "execution": {
     "iopub.execute_input": "2022-12-07T06:17:01.796548Z",
     "iopub.status.busy": "2022-12-07T06:17:01.796134Z",
     "iopub.status.idle": "2022-12-07T06:17:02.005806Z",
     "shell.execute_reply": "2022-12-07T06:17:02.004163Z"
    },
    "papermill": {
     "duration": 0.225152,
     "end_time": "2022-12-07T06:17:02.008797",
     "exception": false,
     "start_time": "2022-12-07T06:17:01.783645",
     "status": "completed"
    },
    "tags": []
   },
   "outputs": [
    {
     "data": {
      "text/html": [
       "<div>\n",
       "<style scoped>\n",
       "    .dataframe tbody tr th:only-of-type {\n",
       "        vertical-align: middle;\n",
       "    }\n",
       "\n",
       "    .dataframe tbody tr th {\n",
       "        vertical-align: top;\n",
       "    }\n",
       "\n",
       "    .dataframe thead th {\n",
       "        text-align: right;\n",
       "    }\n",
       "</style>\n",
       "<table border=\"1\" class=\"dataframe\">\n",
       "  <thead>\n",
       "    <tr style=\"text-align: right;\">\n",
       "      <th></th>\n",
       "      <th>questions_id</th>\n",
       "      <th>questions_author_id</th>\n",
       "      <th>questions_title</th>\n",
       "      <th>questions_body</th>\n",
       "      <th>tags_tag_name</th>\n",
       "    </tr>\n",
       "  </thead>\n",
       "  <tbody>\n",
       "    <tr>\n",
       "      <th>0</th>\n",
       "      <td>332a511f1569444485cf7a7a556a5e54</td>\n",
       "      <td>8f6f374ffd834d258ab69d376dd998f5</td>\n",
       "      <td>Teacher   career   question</td>\n",
       "      <td>What  is  a  maths  teacher?   what  is  a  ma...</td>\n",
       "      <td>lecture</td>\n",
       "    </tr>\n",
       "    <tr>\n",
       "      <th>1</th>\n",
       "      <td>6c98bbce49714e53a488a27e95ca4132</td>\n",
       "      <td>1bdfc4d56b0641df8e6de875776e4e00</td>\n",
       "      <td>Aeronatical career  question</td>\n",
       "      <td>What are the benifits of Aeronatical engineeri...</td>\n",
       "      <td>lecture</td>\n",
       "    </tr>\n",
       "  </tbody>\n",
       "</table>\n",
       "</div>"
      ],
      "text/plain": [
       "                       questions_id               questions_author_id  \\\n",
       "0  332a511f1569444485cf7a7a556a5e54  8f6f374ffd834d258ab69d376dd998f5   \n",
       "1  6c98bbce49714e53a488a27e95ca4132  1bdfc4d56b0641df8e6de875776e4e00   \n",
       "\n",
       "                questions_title  \\\n",
       "0   Teacher   career   question   \n",
       "1  Aeronatical career  question   \n",
       "\n",
       "                                      questions_body tags_tag_name  \n",
       "0  What  is  a  maths  teacher?   what  is  a  ma...       lecture  \n",
       "1  What are the benifits of Aeronatical engineeri...       lecture  "
      ]
     },
     "execution_count": 10,
     "metadata": {},
     "output_type": "execute_result"
    }
   ],
   "source": [
    "# Merge dataframe and remove unnecessary columns\n",
    "temp_df = temp_df.merge(tags_df, \n",
    "              left_on='tag_questions_tag_id',\n",
    "              right_on = 'tags_tag_id',\n",
    "              how='inner'\n",
    "             ).drop(columns=['tag_questions_tag_id','tags_tag_id'])\n",
    "temp_df.head(2)"
   ]
  },
  {
   "cell_type": "code",
   "execution_count": 11,
   "id": "3e96bb34",
   "metadata": {
    "execution": {
     "iopub.execute_input": "2022-12-07T06:17:02.031705Z",
     "iopub.status.busy": "2022-12-07T06:17:02.031204Z",
     "iopub.status.idle": "2022-12-07T06:17:02.528407Z",
     "shell.execute_reply": "2022-12-07T06:17:02.526913Z"
    },
    "papermill": {
     "duration": 0.51258,
     "end_time": "2022-12-07T06:17:02.531889",
     "exception": false,
     "start_time": "2022-12-07T06:17:02.019309",
     "status": "completed"
    },
    "tags": []
   },
   "outputs": [
    {
     "data": {
      "text/html": [
       "<div>\n",
       "<style scoped>\n",
       "    .dataframe tbody tr th:only-of-type {\n",
       "        vertical-align: middle;\n",
       "    }\n",
       "\n",
       "    .dataframe tbody tr th {\n",
       "        vertical-align: top;\n",
       "    }\n",
       "\n",
       "    .dataframe thead th {\n",
       "        text-align: right;\n",
       "    }\n",
       "</style>\n",
       "<table border=\"1\" class=\"dataframe\">\n",
       "  <thead>\n",
       "    <tr style=\"text-align: right;\">\n",
       "      <th></th>\n",
       "      <th>questions_id</th>\n",
       "      <th>tag</th>\n",
       "    </tr>\n",
       "  </thead>\n",
       "  <tbody>\n",
       "    <tr>\n",
       "      <th>0</th>\n",
       "      <td>0003e7bf48f24b5c985f8fce96e611f3</td>\n",
       "      <td>{time, information-technology, majoring, inter...</td>\n",
       "    </tr>\n",
       "    <tr>\n",
       "      <th>1</th>\n",
       "      <td>0006609dd4da40dcaa5a83e0499aba14</td>\n",
       "      <td>{law, psychology}</td>\n",
       "    </tr>\n",
       "  </tbody>\n",
       "</table>\n",
       "</div>"
      ],
      "text/plain": [
       "                       questions_id  \\\n",
       "0  0003e7bf48f24b5c985f8fce96e611f3   \n",
       "1  0006609dd4da40dcaa5a83e0499aba14   \n",
       "\n",
       "                                                 tag  \n",
       "0  {time, information-technology, majoring, inter...  \n",
       "1                                  {law, psychology}  "
      ]
     },
     "execution_count": 11,
     "metadata": {},
     "output_type": "execute_result"
    }
   ],
   "source": [
    "# Extract question tag by grouping\n",
    "question_tag_df = temp_df.groupby('questions_id')['tags_tag_name'].apply(set).reset_index()\n",
    "question_tag_df.rename(columns={'tags_tag_name':'tag'}, inplace=True)\n",
    "question_tag_df.head(2)"
   ]
  },
  {
   "cell_type": "markdown",
   "id": "86c921db",
   "metadata": {
    "papermill": {
     "duration": 0.010501,
     "end_time": "2022-12-07T06:17:02.552984",
     "exception": false,
     "start_time": "2022-12-07T06:17:02.542483",
     "status": "completed"
    },
    "tags": []
   },
   "source": [
    "### Recommendation for a user\n",
    "\n",
    "*Recommendation for `user_id=00009a0f9bda43eba47104e9ac62aff5`*"
   ]
  },
  {
   "cell_type": "code",
   "execution_count": 12,
   "id": "fc6f9ba5",
   "metadata": {
    "execution": {
     "iopub.execute_input": "2022-12-07T06:17:02.576976Z",
     "iopub.status.busy": "2022-12-07T06:17:02.576521Z",
     "iopub.status.idle": "2022-12-07T06:17:02.581639Z",
     "shell.execute_reply": "2022-12-07T06:17:02.580596Z"
    },
    "papermill": {
     "duration": 0.019663,
     "end_time": "2022-12-07T06:17:02.584730",
     "exception": false,
     "start_time": "2022-12-07T06:17:02.565067",
     "status": "completed"
    },
    "tags": []
   },
   "outputs": [],
   "source": [
    "user_id = '001bd6f7f1ac4897b0b35dc665c64d2e'"
   ]
  },
  {
   "cell_type": "markdown",
   "id": "f60628d3",
   "metadata": {
    "papermill": {
     "duration": 0.009875,
     "end_time": "2022-12-07T06:17:02.605472",
     "exception": false,
     "start_time": "2022-12-07T06:17:02.595597",
     "status": "completed"
    },
    "tags": []
   },
   "source": [
    "#### Calculate Similarity score\n",
    "\n",
    "Calculate similarity score with Jacard Similarity method."
   ]
  },
  {
   "cell_type": "code",
   "execution_count": 13,
   "id": "4862b301",
   "metadata": {
    "execution": {
     "iopub.execute_input": "2022-12-07T06:17:02.629217Z",
     "iopub.status.busy": "2022-12-07T06:17:02.628768Z",
     "iopub.status.idle": "2022-12-07T06:17:02.635200Z",
     "shell.execute_reply": "2022-12-07T06:17:02.633910Z"
    },
    "papermill": {
     "duration": 0.022056,
     "end_time": "2022-12-07T06:17:02.638673",
     "exception": false,
     "start_time": "2022-12-07T06:17:02.616617",
     "status": "completed"
    },
    "tags": []
   },
   "outputs": [],
   "source": [
    "def jacard_similarity(user_tag, question_tag):\n",
    "    a_and_b = len(user_tag & question_tag)\n",
    "    a_or_b = len(user_tag | question_tag)\n",
    "    return (a_and_b/a_or_b)"
   ]
  },
  {
   "cell_type": "code",
   "execution_count": 14,
   "id": "498c58b8",
   "metadata": {
    "execution": {
     "iopub.execute_input": "2022-12-07T06:17:02.660347Z",
     "iopub.status.busy": "2022-12-07T06:17:02.659890Z",
     "iopub.status.idle": "2022-12-07T06:17:02.711863Z",
     "shell.execute_reply": "2022-12-07T06:17:02.710544Z"
    },
    "papermill": {
     "duration": 0.065638,
     "end_time": "2022-12-07T06:17:02.714551",
     "exception": false,
     "start_time": "2022-12-07T06:17:02.648913",
     "status": "completed"
    },
    "tags": []
   },
   "outputs": [
    {
     "data": {
      "text/html": [
       "<div>\n",
       "<style scoped>\n",
       "    .dataframe tbody tr th:only-of-type {\n",
       "        vertical-align: middle;\n",
       "    }\n",
       "\n",
       "    .dataframe tbody tr th {\n",
       "        vertical-align: top;\n",
       "    }\n",
       "\n",
       "    .dataframe thead th {\n",
       "        text-align: right;\n",
       "    }\n",
       "</style>\n",
       "<table border=\"1\" class=\"dataframe\">\n",
       "  <thead>\n",
       "    <tr style=\"text-align: right;\">\n",
       "      <th></th>\n",
       "      <th>questions_id</th>\n",
       "      <th>tag</th>\n",
       "      <th>sim_score</th>\n",
       "    </tr>\n",
       "  </thead>\n",
       "  <tbody>\n",
       "    <tr>\n",
       "      <th>0</th>\n",
       "      <td>0003e7bf48f24b5c985f8fce96e611f3</td>\n",
       "      <td>{time, information-technology, majoring, inter...</td>\n",
       "      <td>0.0</td>\n",
       "    </tr>\n",
       "    <tr>\n",
       "      <th>1</th>\n",
       "      <td>0006609dd4da40dcaa5a83e0499aba14</td>\n",
       "      <td>{law, psychology}</td>\n",
       "      <td>0.0</td>\n",
       "    </tr>\n",
       "    <tr>\n",
       "      <th>2</th>\n",
       "      <td>000af224bc2f4e94a19f8b62ba279cc4</td>\n",
       "      <td>{marine, biology}</td>\n",
       "      <td>0.0</td>\n",
       "    </tr>\n",
       "    <tr>\n",
       "      <th>3</th>\n",
       "      <td>000b30fb534b41f7b716fa9ebf9c3f35</td>\n",
       "      <td>{school, teaching, exercise-science, exercise}</td>\n",
       "      <td>0.0</td>\n",
       "    </tr>\n",
       "    <tr>\n",
       "      <th>4</th>\n",
       "      <td>0018752e44b44e26bb74a0a43232b4d6</td>\n",
       "      <td>{math, puremathematics}</td>\n",
       "      <td>0.0</td>\n",
       "    </tr>\n",
       "  </tbody>\n",
       "</table>\n",
       "</div>"
      ],
      "text/plain": [
       "                       questions_id  \\\n",
       "0  0003e7bf48f24b5c985f8fce96e611f3   \n",
       "1  0006609dd4da40dcaa5a83e0499aba14   \n",
       "2  000af224bc2f4e94a19f8b62ba279cc4   \n",
       "3  000b30fb534b41f7b716fa9ebf9c3f35   \n",
       "4  0018752e44b44e26bb74a0a43232b4d6   \n",
       "\n",
       "                                                 tag  sim_score  \n",
       "0  {time, information-technology, majoring, inter...        0.0  \n",
       "1                                  {law, psychology}        0.0  \n",
       "2                                  {marine, biology}        0.0  \n",
       "3     {school, teaching, exercise-science, exercise}        0.0  \n",
       "4                            {math, puremathematics}        0.0  "
      ]
     },
     "execution_count": 14,
     "metadata": {},
     "output_type": "execute_result"
    }
   ],
   "source": [
    "#  Get tags of the user\n",
    "user_tags = user_tag_df[user_tag_df.user_id==user_id]['tag'].values[0]\n",
    "\n",
    "# Similarity score calculation for each question\n",
    "sim_score = question_tag_df['tag'].apply(lambda question_tag: jacard_similarity(user_tags, question_tag) )\n",
    "\n",
    "# Add the similarity score as a column to the dataframe\n",
    "question_tag_df['sim_score'] = sim_score\n",
    "question_tag_df.head()"
   ]
  },
  {
   "cell_type": "markdown",
   "id": "b4f7a9b3",
   "metadata": {
    "papermill": {
     "duration": 0.009575,
     "end_time": "2022-12-07T06:17:02.734839",
     "exception": false,
     "start_time": "2022-12-07T06:17:02.725264",
     "status": "completed"
    },
    "tags": []
   },
   "source": [
    "#### Remove user own questions "
   ]
  },
  {
   "cell_type": "markdown",
   "id": "aa0a453b",
   "metadata": {
    "papermill": {
     "duration": 0.009678,
     "end_time": "2022-12-07T06:17:02.754906",
     "exception": false,
     "start_time": "2022-12-07T06:17:02.745228",
     "status": "completed"
    },
    "tags": []
   },
   "source": [
    "*Get user own questions*"
   ]
  },
  {
   "cell_type": "code",
   "execution_count": 15,
   "id": "e47cc40f",
   "metadata": {
    "execution": {
     "iopub.execute_input": "2022-12-07T06:17:02.777911Z",
     "iopub.status.busy": "2022-12-07T06:17:02.777478Z",
     "iopub.status.idle": "2022-12-07T06:17:02.790906Z",
     "shell.execute_reply": "2022-12-07T06:17:02.789639Z"
    },
    "papermill": {
     "duration": 0.028573,
     "end_time": "2022-12-07T06:17:02.794517",
     "exception": false,
     "start_time": "2022-12-07T06:17:02.765944",
     "status": "completed"
    },
    "tags": []
   },
   "outputs": [
    {
     "name": "stdout",
     "output_type": "stream",
     "text": [
      "Number of own question:  4\n"
     ]
    },
    {
     "data": {
      "text/plain": [
       "2633    42337857c90f473aa0fa0b3d884d6045\n",
       "6822    e8b9b90b219d4e35af16d78a44d77091\n",
       "7599    f6370087fc4941c18ee174ff2dcc951d\n",
       "7934    de05fd851aff4fc797e74fba4644dda1\n",
       "Name: questions_id, dtype: object"
      ]
     },
     "execution_count": 15,
     "metadata": {},
     "output_type": "execute_result"
    }
   ],
   "source": [
    "own_question_ids = questions_df[questions_df.questions_author_id==user_id].questions_id\n",
    "print(\"Number of own question: \", len(own_question_ids))\n",
    "own_question_ids"
   ]
  },
  {
   "cell_type": "markdown",
   "id": "9602bf6d",
   "metadata": {
    "papermill": {
     "duration": 0.010203,
     "end_time": "2022-12-07T06:17:02.815821",
     "exception": false,
     "start_time": "2022-12-07T06:17:02.805618",
     "status": "completed"
    },
    "tags": []
   },
   "source": [
    "Filter own questions"
   ]
  },
  {
   "cell_type": "code",
   "execution_count": 16,
   "id": "a72c7617",
   "metadata": {
    "execution": {
     "iopub.execute_input": "2022-12-07T06:17:02.838680Z",
     "iopub.status.busy": "2022-12-07T06:17:02.838291Z",
     "iopub.status.idle": "2022-12-07T06:17:02.857478Z",
     "shell.execute_reply": "2022-12-07T06:17:02.856118Z"
    },
    "papermill": {
     "duration": 0.034489,
     "end_time": "2022-12-07T06:17:02.861400",
     "exception": false,
     "start_time": "2022-12-07T06:17:02.826911",
     "status": "completed"
    },
    "tags": []
   },
   "outputs": [
    {
     "name": "stdout",
     "output_type": "stream",
     "text": [
      "Number of questions before filter own question:  23288\n",
      "Number of questions after filter own question:  23284\n"
     ]
    }
   ],
   "source": [
    "print('Number of questions before filter own question: ', len(question_tag_df))\n",
    "question_tag_df = question_tag_df[~question_tag_df.questions_id.isin(own_question_ids)]\n",
    "print('Number of questions after filter own question: ', len(question_tag_df))\n"
   ]
  },
  {
   "cell_type": "markdown",
   "id": "bf9cece5",
   "metadata": {
    "papermill": {
     "duration": 0.010254,
     "end_time": "2022-12-07T06:17:02.882292",
     "exception": false,
     "start_time": "2022-12-07T06:17:02.872038",
     "status": "completed"
    },
    "tags": []
   },
   "source": [
    "#### Get 20 question with highest similarity score as recommended questions"
   ]
  },
  {
   "cell_type": "code",
   "execution_count": 17,
   "id": "1cbfe9fb",
   "metadata": {
    "execution": {
     "iopub.execute_input": "2022-12-07T06:17:02.904830Z",
     "iopub.status.busy": "2022-12-07T06:17:02.904422Z",
     "iopub.status.idle": "2022-12-07T06:17:02.930730Z",
     "shell.execute_reply": "2022-12-07T06:17:02.929278Z"
    },
    "papermill": {
     "duration": 0.040803,
     "end_time": "2022-12-07T06:17:02.933264",
     "exception": false,
     "start_time": "2022-12-07T06:17:02.892461",
     "status": "completed"
    },
    "tags": []
   },
   "outputs": [
    {
     "data": {
      "text/html": [
       "<div>\n",
       "<style scoped>\n",
       "    .dataframe tbody tr th:only-of-type {\n",
       "        vertical-align: middle;\n",
       "    }\n",
       "\n",
       "    .dataframe tbody tr th {\n",
       "        vertical-align: top;\n",
       "    }\n",
       "\n",
       "    .dataframe thead th {\n",
       "        text-align: right;\n",
       "    }\n",
       "</style>\n",
       "<table border=\"1\" class=\"dataframe\">\n",
       "  <thead>\n",
       "    <tr style=\"text-align: right;\">\n",
       "      <th></th>\n",
       "      <th>questions_id</th>\n",
       "      <th>tag</th>\n",
       "      <th>sim_score</th>\n",
       "    </tr>\n",
       "  </thead>\n",
       "  <tbody>\n",
       "    <tr>\n",
       "      <th>20689</th>\n",
       "      <td>e40a218130834645bd74a5a196cec9e7</td>\n",
       "      <td>{college}</td>\n",
       "      <td>1.0</td>\n",
       "    </tr>\n",
       "    <tr>\n",
       "      <th>8214</th>\n",
       "      <td>5bec833ac8da4595ba3945f9202732d1</td>\n",
       "      <td>{college}</td>\n",
       "      <td>1.0</td>\n",
       "    </tr>\n",
       "    <tr>\n",
       "      <th>21681</th>\n",
       "      <td>ee814ad76e1245bd8d096ea82f757274</td>\n",
       "      <td>{college}</td>\n",
       "      <td>1.0</td>\n",
       "    </tr>\n",
       "    <tr>\n",
       "      <th>8232</th>\n",
       "      <td>5c3c2d84b40f48f288740ec3980a36f5</td>\n",
       "      <td>{college}</td>\n",
       "      <td>1.0</td>\n",
       "    </tr>\n",
       "    <tr>\n",
       "      <th>2896</th>\n",
       "      <td>20a8e38f5e3142d1aa9a3c3534718fac</td>\n",
       "      <td>{college}</td>\n",
       "      <td>1.0</td>\n",
       "    </tr>\n",
       "    <tr>\n",
       "      <th>...</th>\n",
       "      <td>...</td>\n",
       "      <td>...</td>\n",
       "      <td>...</td>\n",
       "    </tr>\n",
       "    <tr>\n",
       "      <th>8436</th>\n",
       "      <td>5e5ec38774704f2c93329f2d2656f7f7</td>\n",
       "      <td>{model, fashion, modeling, fashion-shows, mode...</td>\n",
       "      <td>0.0</td>\n",
       "    </tr>\n",
       "    <tr>\n",
       "      <th>8435</th>\n",
       "      <td>5e5e4275dc914ca8a2d601713ce7cd2f</td>\n",
       "      <td>{biology}</td>\n",
       "      <td>0.0</td>\n",
       "    </tr>\n",
       "    <tr>\n",
       "      <th>8434</th>\n",
       "      <td>5e5a015467e24894abf5ab992964d7ad</td>\n",
       "      <td>{event-management, communications, communicati...</td>\n",
       "      <td>0.0</td>\n",
       "    </tr>\n",
       "    <tr>\n",
       "      <th>8433</th>\n",
       "      <td>5e5832e189204de59a7516dd75faea6e</td>\n",
       "      <td>{mathematics, school, math, higher-education}</td>\n",
       "      <td>0.0</td>\n",
       "    </tr>\n",
       "    <tr>\n",
       "      <th>11643</th>\n",
       "      <td>804a45ba28c9497187d175cf016e9b41</td>\n",
       "      <td>{orthodontist, dentistry}</td>\n",
       "      <td>0.0</td>\n",
       "    </tr>\n",
       "  </tbody>\n",
       "</table>\n",
       "<p>23284 rows × 3 columns</p>\n",
       "</div>"
      ],
      "text/plain": [
       "                           questions_id  \\\n",
       "20689  e40a218130834645bd74a5a196cec9e7   \n",
       "8214   5bec833ac8da4595ba3945f9202732d1   \n",
       "21681  ee814ad76e1245bd8d096ea82f757274   \n",
       "8232   5c3c2d84b40f48f288740ec3980a36f5   \n",
       "2896   20a8e38f5e3142d1aa9a3c3534718fac   \n",
       "...                                 ...   \n",
       "8436   5e5ec38774704f2c93329f2d2656f7f7   \n",
       "8435   5e5e4275dc914ca8a2d601713ce7cd2f   \n",
       "8434   5e5a015467e24894abf5ab992964d7ad   \n",
       "8433   5e5832e189204de59a7516dd75faea6e   \n",
       "11643  804a45ba28c9497187d175cf016e9b41   \n",
       "\n",
       "                                                     tag  sim_score  \n",
       "20689                                          {college}        1.0  \n",
       "8214                                           {college}        1.0  \n",
       "21681                                          {college}        1.0  \n",
       "8232                                           {college}        1.0  \n",
       "2896                                           {college}        1.0  \n",
       "...                                                  ...        ...  \n",
       "8436   {model, fashion, modeling, fashion-shows, mode...        0.0  \n",
       "8435                                           {biology}        0.0  \n",
       "8434   {event-management, communications, communicati...        0.0  \n",
       "8433       {mathematics, school, math, higher-education}        0.0  \n",
       "11643                          {orthodontist, dentistry}        0.0  \n",
       "\n",
       "[23284 rows x 3 columns]"
      ]
     },
     "execution_count": 17,
     "metadata": {},
     "output_type": "execute_result"
    }
   ],
   "source": [
    "# Sort by similarity score in descenging order\n",
    "question_tag_df.sort_values(by='sim_score', ascending=False, inplace=True)\n",
    "question_tag_df"
   ]
  },
  {
   "cell_type": "code",
   "execution_count": 18,
   "id": "3227e1c9",
   "metadata": {
    "execution": {
     "iopub.execute_input": "2022-12-07T06:17:02.955978Z",
     "iopub.status.busy": "2022-12-07T06:17:02.955578Z",
     "iopub.status.idle": "2022-12-07T06:17:02.963961Z",
     "shell.execute_reply": "2022-12-07T06:17:02.962785Z"
    },
    "papermill": {
     "duration": 0.022816,
     "end_time": "2022-12-07T06:17:02.966643",
     "exception": false,
     "start_time": "2022-12-07T06:17:02.943827",
     "status": "completed"
    },
    "tags": []
   },
   "outputs": [
    {
     "data": {
      "text/plain": [
       "20"
      ]
     },
     "execution_count": 18,
     "metadata": {},
     "output_type": "execute_result"
    }
   ],
   "source": [
    "# Top 20 question \n",
    "top20_question_ids = question_tag_df.questions_id[:20]\n",
    "len(top20_question_ids)"
   ]
  },
  {
   "cell_type": "markdown",
   "id": "5e0a40bf",
   "metadata": {
    "papermill": {
     "duration": 0.010287,
     "end_time": "2022-12-07T06:17:02.988567",
     "exception": false,
     "start_time": "2022-12-07T06:17:02.978280",
     "status": "completed"
    },
    "tags": []
   },
   "source": [
    "#### User own questions"
   ]
  },
  {
   "cell_type": "code",
   "execution_count": 19,
   "id": "76615ee2",
   "metadata": {
    "execution": {
     "iopub.execute_input": "2022-12-07T06:17:03.011574Z",
     "iopub.status.busy": "2022-12-07T06:17:03.011195Z",
     "iopub.status.idle": "2022-12-07T06:17:03.025959Z",
     "shell.execute_reply": "2022-12-07T06:17:03.024469Z"
    },
    "papermill": {
     "duration": 0.029284,
     "end_time": "2022-12-07T06:17:03.028658",
     "exception": false,
     "start_time": "2022-12-07T06:17:02.999374",
     "status": "completed"
    },
    "tags": []
   },
   "outputs": [
    {
     "data": {
      "text/html": [
       "<div>\n",
       "<style scoped>\n",
       "    .dataframe tbody tr th:only-of-type {\n",
       "        vertical-align: middle;\n",
       "    }\n",
       "\n",
       "    .dataframe tbody tr th {\n",
       "        vertical-align: top;\n",
       "    }\n",
       "\n",
       "    .dataframe thead th {\n",
       "        text-align: right;\n",
       "    }\n",
       "</style>\n",
       "<table border=\"1\" class=\"dataframe\">\n",
       "  <thead>\n",
       "    <tr style=\"text-align: right;\">\n",
       "      <th></th>\n",
       "      <th>questions_id</th>\n",
       "      <th>questions_title</th>\n",
       "    </tr>\n",
       "  </thead>\n",
       "  <tbody>\n",
       "    <tr>\n",
       "      <th>2633</th>\n",
       "      <td>42337857c90f473aa0fa0b3d884d6045</td>\n",
       "      <td>Do you prefer urban, suburban, or rural campus...</td>\n",
       "    </tr>\n",
       "    <tr>\n",
       "      <th>6822</th>\n",
       "      <td>e8b9b90b219d4e35af16d78a44d77091</td>\n",
       "      <td>Where are the best internship opportunities in...</td>\n",
       "    </tr>\n",
       "    <tr>\n",
       "      <th>7599</th>\n",
       "      <td>f6370087fc4941c18ee174ff2dcc951d</td>\n",
       "      <td>Why do people prefer living off campus?</td>\n",
       "    </tr>\n",
       "    <tr>\n",
       "      <th>7934</th>\n",
       "      <td>de05fd851aff4fc797e74fba4644dda1</td>\n",
       "      <td>What are some resources to find a roommate?</td>\n",
       "    </tr>\n",
       "  </tbody>\n",
       "</table>\n",
       "</div>"
      ],
      "text/plain": [
       "                          questions_id  \\\n",
       "2633  42337857c90f473aa0fa0b3d884d6045   \n",
       "6822  e8b9b90b219d4e35af16d78a44d77091   \n",
       "7599  f6370087fc4941c18ee174ff2dcc951d   \n",
       "7934  de05fd851aff4fc797e74fba4644dda1   \n",
       "\n",
       "                                        questions_title  \n",
       "2633  Do you prefer urban, suburban, or rural campus...  \n",
       "6822  Where are the best internship opportunities in...  \n",
       "7599            Why do people prefer living off campus?  \n",
       "7934        What are some resources to find a roommate?  "
      ]
     },
     "execution_count": 19,
     "metadata": {},
     "output_type": "execute_result"
    }
   ],
   "source": [
    "own_question = questions_df[questions_df.questions_id.isin(own_question_ids)]\n",
    "own_question[['questions_id', 'questions_title']]"
   ]
  },
  {
   "cell_type": "markdown",
   "id": "699118ee",
   "metadata": {
    "papermill": {
     "duration": 0.010281,
     "end_time": "2022-12-07T06:17:03.049742",
     "exception": false,
     "start_time": "2022-12-07T06:17:03.039461",
     "status": "completed"
    },
    "tags": []
   },
   "source": [
    "#### Recommended Questions"
   ]
  },
  {
   "cell_type": "code",
   "execution_count": 20,
   "id": "bb36fcc2",
   "metadata": {
    "execution": {
     "iopub.execute_input": "2022-12-07T06:17:03.074368Z",
     "iopub.status.busy": "2022-12-07T06:17:03.073961Z",
     "iopub.status.idle": "2022-12-07T06:17:03.090384Z",
     "shell.execute_reply": "2022-12-07T06:17:03.089001Z"
    },
    "papermill": {
     "duration": 0.031902,
     "end_time": "2022-12-07T06:17:03.092856",
     "exception": false,
     "start_time": "2022-12-07T06:17:03.060954",
     "status": "completed"
    },
    "tags": []
   },
   "outputs": [
    {
     "data": {
      "text/html": [
       "<div>\n",
       "<style scoped>\n",
       "    .dataframe tbody tr th:only-of-type {\n",
       "        vertical-align: middle;\n",
       "    }\n",
       "\n",
       "    .dataframe tbody tr th {\n",
       "        vertical-align: top;\n",
       "    }\n",
       "\n",
       "    .dataframe thead th {\n",
       "        text-align: right;\n",
       "    }\n",
       "</style>\n",
       "<table border=\"1\" class=\"dataframe\">\n",
       "  <thead>\n",
       "    <tr style=\"text-align: right;\">\n",
       "      <th></th>\n",
       "      <th>questions_id</th>\n",
       "      <th>questions_title</th>\n",
       "    </tr>\n",
       "  </thead>\n",
       "  <tbody>\n",
       "    <tr>\n",
       "      <th>3225</th>\n",
       "      <td>dd19c4e2623c450e94f46e709211aee5</td>\n",
       "      <td>How long does it take to get the full understa...</td>\n",
       "    </tr>\n",
       "    <tr>\n",
       "      <th>3282</th>\n",
       "      <td>95539a67cee449269346cd2e42b89014</td>\n",
       "      <td>Is it better to graduate high school early, or...</td>\n",
       "    </tr>\n",
       "    <tr>\n",
       "      <th>4603</th>\n",
       "      <td>c91a53ba77fc45b7978804de390d061a</td>\n",
       "      <td>Should I pick my college solely for its progra...</td>\n",
       "    </tr>\n",
       "    <tr>\n",
       "      <th>6074</th>\n",
       "      <td>ee814ad76e1245bd8d096ea82f757274</td>\n",
       "      <td>Motivational tips to keep me motivated.</td>\n",
       "    </tr>\n",
       "    <tr>\n",
       "      <th>6093</th>\n",
       "      <td>9d306c08820e4a6e8c91d1be625b5f3b</td>\n",
       "      <td>How do I go about finding scholarships that I ...</td>\n",
       "    </tr>\n",
       "    <tr>\n",
       "      <th>6851</th>\n",
       "      <td>b5044f24a92c46f2adedad06c3970745</td>\n",
       "      <td>What is a good university to attend a good soc...</td>\n",
       "    </tr>\n",
       "    <tr>\n",
       "      <th>7269</th>\n",
       "      <td>5d490567d3824cb8a6c2eed5c3a3e0a2</td>\n",
       "      <td>What is the longest process of getting in coll...</td>\n",
       "    </tr>\n",
       "    <tr>\n",
       "      <th>7733</th>\n",
       "      <td>5bec833ac8da4595ba3945f9202732d1</td>\n",
       "      <td>Which college/university is good to attend for...</td>\n",
       "    </tr>\n",
       "    <tr>\n",
       "      <th>8779</th>\n",
       "      <td>e40a218130834645bd74a5a196cec9e7</td>\n",
       "      <td>How do you decide what to major in?</td>\n",
       "    </tr>\n",
       "    <tr>\n",
       "      <th>9876</th>\n",
       "      <td>10e9c5a8760f4b319b0d4bf59d495f5d</td>\n",
       "      <td>Is it most convenient to go straight to Univer...</td>\n",
       "    </tr>\n",
       "    <tr>\n",
       "      <th>10678</th>\n",
       "      <td>20a8e38f5e3142d1aa9a3c3534718fac</td>\n",
       "      <td>How is college different from high school?</td>\n",
       "    </tr>\n",
       "    <tr>\n",
       "      <th>11727</th>\n",
       "      <td>ee99e93e2f9a4700b6b90c71384fd4f4</td>\n",
       "      <td>whats the limit of times you should change you...</td>\n",
       "    </tr>\n",
       "    <tr>\n",
       "      <th>12079</th>\n",
       "      <td>5d01db02192e428f8946e9b9220e2cbc</td>\n",
       "      <td>What is most compelling about being an indepen...</td>\n",
       "    </tr>\n",
       "    <tr>\n",
       "      <th>12606</th>\n",
       "      <td>5cebd62c59574b26b4b11bb0d4b42fa7</td>\n",
       "      <td>Do you have to buy all your books or are they ...</td>\n",
       "    </tr>\n",
       "    <tr>\n",
       "      <th>14321</th>\n",
       "      <td>5d1e771fa4ba45e08ad9b9e1da56985f</td>\n",
       "      <td>Is college fun?</td>\n",
       "    </tr>\n",
       "    <tr>\n",
       "      <th>16028</th>\n",
       "      <td>5dd8c1735cdb4bdc830b9f0d1e88c5e8</td>\n",
       "      <td>How should you decide what college you want to...</td>\n",
       "    </tr>\n",
       "    <tr>\n",
       "      <th>16054</th>\n",
       "      <td>0242304336564059a424314388b7dc9b</td>\n",
       "      <td>Is college the right answer?</td>\n",
       "    </tr>\n",
       "    <tr>\n",
       "      <th>16396</th>\n",
       "      <td>5caaec12454d4c73a311ad2cc18b9c3c</td>\n",
       "      <td>Is college fun?</td>\n",
       "    </tr>\n",
       "    <tr>\n",
       "      <th>22413</th>\n",
       "      <td>5c3c2d84b40f48f288740ec3980a36f5</td>\n",
       "      <td>Is it smart to take a gap year?</td>\n",
       "    </tr>\n",
       "    <tr>\n",
       "      <th>23781</th>\n",
       "      <td>c9b8fc0ce3ed48599dc8227e96296fdb</td>\n",
       "      <td>What are healthy habits to develop in order to...</td>\n",
       "    </tr>\n",
       "  </tbody>\n",
       "</table>\n",
       "</div>"
      ],
      "text/plain": [
       "                           questions_id  \\\n",
       "3225   dd19c4e2623c450e94f46e709211aee5   \n",
       "3282   95539a67cee449269346cd2e42b89014   \n",
       "4603   c91a53ba77fc45b7978804de390d061a   \n",
       "6074   ee814ad76e1245bd8d096ea82f757274   \n",
       "6093   9d306c08820e4a6e8c91d1be625b5f3b   \n",
       "6851   b5044f24a92c46f2adedad06c3970745   \n",
       "7269   5d490567d3824cb8a6c2eed5c3a3e0a2   \n",
       "7733   5bec833ac8da4595ba3945f9202732d1   \n",
       "8779   e40a218130834645bd74a5a196cec9e7   \n",
       "9876   10e9c5a8760f4b319b0d4bf59d495f5d   \n",
       "10678  20a8e38f5e3142d1aa9a3c3534718fac   \n",
       "11727  ee99e93e2f9a4700b6b90c71384fd4f4   \n",
       "12079  5d01db02192e428f8946e9b9220e2cbc   \n",
       "12606  5cebd62c59574b26b4b11bb0d4b42fa7   \n",
       "14321  5d1e771fa4ba45e08ad9b9e1da56985f   \n",
       "16028  5dd8c1735cdb4bdc830b9f0d1e88c5e8   \n",
       "16054  0242304336564059a424314388b7dc9b   \n",
       "16396  5caaec12454d4c73a311ad2cc18b9c3c   \n",
       "22413  5c3c2d84b40f48f288740ec3980a36f5   \n",
       "23781  c9b8fc0ce3ed48599dc8227e96296fdb   \n",
       "\n",
       "                                         questions_title  \n",
       "3225   How long does it take to get the full understa...  \n",
       "3282   Is it better to graduate high school early, or...  \n",
       "4603   Should I pick my college solely for its progra...  \n",
       "6074             Motivational tips to keep me motivated.  \n",
       "6093   How do I go about finding scholarships that I ...  \n",
       "6851   What is a good university to attend a good soc...  \n",
       "7269   What is the longest process of getting in coll...  \n",
       "7733   Which college/university is good to attend for...  \n",
       "8779                 How do you decide what to major in?  \n",
       "9876   Is it most convenient to go straight to Univer...  \n",
       "10678         How is college different from high school?  \n",
       "11727  whats the limit of times you should change you...  \n",
       "12079  What is most compelling about being an indepen...  \n",
       "12606  Do you have to buy all your books or are they ...  \n",
       "14321                                    Is college fun?  \n",
       "16028  How should you decide what college you want to...  \n",
       "16054                       Is college the right answer?  \n",
       "16396                                    Is college fun?  \n",
       "22413                    Is it smart to take a gap year?  \n",
       "23781  What are healthy habits to develop in order to...  "
      ]
     },
     "execution_count": 20,
     "metadata": {},
     "output_type": "execute_result"
    }
   ],
   "source": [
    "top20_question = questions_df[questions_df.questions_id.isin(top20_question_ids)]\n",
    "top20_question[['questions_id', 'questions_title']]"
   ]
  },
  {
   "cell_type": "code",
   "execution_count": null,
   "id": "c79207ad",
   "metadata": {
    "papermill": {
     "duration": 0.011989,
     "end_time": "2022-12-07T06:17:03.116154",
     "exception": false,
     "start_time": "2022-12-07T06:17:03.104165",
     "status": "completed"
    },
    "tags": []
   },
   "outputs": [],
   "source": []
  }
 ],
 "metadata": {
  "kernelspec": {
   "display_name": "Python 3",
   "language": "python",
   "name": "python3"
  },
  "language_info": {
   "codemirror_mode": {
    "name": "ipython",
    "version": 3
   },
   "file_extension": ".py",
   "mimetype": "text/x-python",
   "name": "python",
   "nbconvert_exporter": "python",
   "pygments_lexer": "ipython3",
   "version": "3.7.12"
  },
  "papermill": {
   "default_parameters": {},
   "duration": 13.902456,
   "end_time": "2022-12-07T06:17:03.849797",
   "environment_variables": {},
   "exception": null,
   "input_path": "__notebook__.ipynb",
   "output_path": "__notebook__.ipynb",
   "parameters": {},
   "start_time": "2022-12-07T06:16:49.947341",
   "version": "2.3.4"
  }
 },
 "nbformat": 4,
 "nbformat_minor": 5
}
